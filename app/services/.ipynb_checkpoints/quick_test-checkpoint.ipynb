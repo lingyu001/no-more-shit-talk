{
 "cells": [
  {
   "cell_type": "code",
   "execution_count": 18,
   "id": "871428fc-adbe-4bd6-8f46-4be40e97418e",
   "metadata": {},
   "outputs": [
    {
     "name": "stdout",
     "output_type": "stream",
     "text": [
      "The autoreload extension is already loaded. To reload it, use:\n",
      "  %reload_ext autoreload\n"
     ]
    }
   ],
   "source": [
    "%load_ext autoreload\n",
    "%autoreload 2"
   ]
  },
  {
   "cell_type": "code",
   "execution_count": 19,
   "id": "e1ee74d4-968c-488e-9e35-7d58fc9458a0",
   "metadata": {},
   "outputs": [],
   "source": [
    "from news_service import NewsService"
   ]
  },
  {
   "cell_type": "code",
   "execution_count": 20,
   "id": "d1ac1c36-1edf-4a74-b166-9e909e986709",
   "metadata": {},
   "outputs": [],
   "source": [
    "from dotenv import load_dotenv"
   ]
  },
  {
   "cell_type": "code",
   "execution_count": 21,
   "id": "1c7b6061-0510-4121-a713-3878becdad1c",
   "metadata": {},
   "outputs": [
    {
     "data": {
      "text/plain": [
       "True"
      ]
     },
     "execution_count": 21,
     "metadata": {},
     "output_type": "execute_result"
    }
   ],
   "source": [
    "load_dotenv()"
   ]
  },
  {
   "cell_type": "code",
   "execution_count": 22,
   "id": "44c620f3-1765-4754-beba-3e9dfbd8bbbb",
   "metadata": {},
   "outputs": [],
   "source": [
    "news_service = NewsService()"
   ]
  },
  {
   "cell_type": "code",
   "execution_count": 23,
   "id": "af21febe-b9a6-4181-b250-947fd51e346f",
   "metadata": {},
   "outputs": [],
   "source": [
    "from datetime import datetime, timedelta\n",
    "symbol = \"NVDA\"  # NVIDIA stock symbol\n",
    "date = (datetime.now() - timedelta(days=7)).strftime(\"%Y-%m-%d\")"
   ]
  },
  {
   "cell_type": "code",
   "execution_count": 24,
   "id": "bebba2ae-d80f-476d-86de-83a7d0d20ec0",
   "metadata": {},
   "outputs": [
    {
     "data": {
      "text/plain": [
       "'(\"NVDA\" OR \"NVIDIA Corporation\") (\"stock news\" OR \"earnings\" OR \"company news\") -site:youtube.com -site:facebook.com -site:tiktok.com -site:instagram.com -site:bloomberg.com -site:wsj.com (site:reuters.com OR site:cnbc.com OR site:marketwatch.com OR site:forbes.com OR site:businessinsider.com) after: 2025-03-09 filetype:html'"
      ]
     },
     "execution_count": 24,
     "metadata": {},
     "output_type": "execute_result"
    }
   ],
   "source": [
    "query = news_service.create_search_query(symbol, date)\n",
    "query"
   ]
  },
  {
   "cell_type": "code",
   "execution_count": 25,
   "id": "920b53f5-9041-4402-b183-0e02e2ce6111",
   "metadata": {},
   "outputs": [
    {
     "name": "stdout",
     "output_type": "stream",
     "text": [
      "Error fetching article content from https://finance.yahoo.com/quote/NVDA/: Client error '429 Too Many Requests' for url 'https://finance.yahoo.com/quote/NVDA/'\n",
      "For more information check: https://developer.mozilla.org/en-US/docs/Web/HTTP/Status/429\n",
      "Error fetching article content from https://www.nasdaq.com/market-activity/stocks/nvda/earnings: \n"
     ]
    },
    {
     "data": {
      "text/plain": [
       "[{'title': 'NVDA Stock Quote Price and Forecast | CNN',\n",
       "  'content': 'NVDA NVIDIA Corp. engages in the design and manufacture of computer graphics processors, chipsets, and related multimedia software. It operates through the following segments: Graphics Processing Unit (GPU) and Compute & Networking. The Graphics segment includes GeForce GPUs for gaming and PCs, the GeForce NOW game streaming service and related infrastructure, Quadro and NVIDIA RTX GPUs for enterprise workstation graphics, virtual GPU, or vGPU, software for cloud-based visual and virtual computing, automotive platforms for infotainment systems, and Omniverse Enterprise software for building and operating metaverse and 3D internet applications. The Compute & Networking segment consists of Data Center accelerated computing platforms and end-to-end networking platforms including Quantum for InfiniBand and Spectrum for Ethernet, NVIDIA DRIVE automated-driving platform and automotive development agreements, Jetson robotics and other embedded platforms, NVIDIA AI Enterprise and other softwar',\n",
       "  'link': 'https://www.cnn.com/markets/stocks/NVDA'},\n",
       " {'title': 'NVIDIA Announces Financial Results for Fourth Quarter and Fiscal ...',\n",
       "  'content': 'NVIDIA (NASDAQ: NVDA) today reported revenue for the fourth quarter ended January 26, 2025, of $39.3 billion, up 12% from the previous quarter and up 78% from a year ago. For the quarter, GAAP earnings per diluted share was $0.89, up 14% from the previous quarter and up 82% from a year ago. Non-GAAP earnings per diluted share was $0.89, up 10% from the previous quarter and up 71% from a year ago. For fiscal 2025, revenue was $130.5 billion, up 114% from a year ago. GAAP earnings per diluted share was $2.94, up 147% from a year ago. Non-GAAP earnings per diluted share was $2.99, up 130% from a year ago. “Demand for Blackwell is amazing as reasoning AI adds another scaling law — increasing compute for training makes models smarter and increasing compute for long thinking makes the answer smarter,” said Jensen Huang, founder and CEO of NVIDIA. “We’ve successfully ramped up the massive-scale production of Blackwell AI supercomputers, achieving billions of dollars in sales in its first quar',\n",
       "  'link': 'http://nvidianews.nvidia.com/news/nvidia-announces-financial-results-for-fourth-quarter-and-fiscal-2025'},\n",
       " {'title': 'NVDA Q4 FY 2025 Earnings, Revenue, and Guidance Estimates ...',\n",
       "  'content': \"Discussion on investing in NVDA. First, I am not an equities analyst and the following arguments are those of a retail NVDA stockholder. This perspective is still valuable; other opinions and comments are welcome. TLDR at the bottom. Revenue Estimate:In Q3, NVDA reported non-GAAP EPS of $0.81 on $35.08B of revenue, which “beat expectations” of ~$0.75 EPS and ~ $33.2B. Twenty-four hours after the report's release, the stock was up around 0.5%. In that report, NVDA provided the following guidance for Q4: NVIDIA’s outlook for the fourth quarter of fiscal 2025 is as follows: Revenue is expected to be $37.5 billion, plus or minus 2%. 2. GAAP and non-GAAP gross margins are expected to be 73.0% and 73.5%, respectively, plus or minus 50 basis points. 3. GAAP and non-GAAP operating expenses are expected to be approximately $4.8 billion and $3.4 billion, respectively. 4. GAAP and non-GAAP other income and expenses are expected to be an income of approximately $400 million, excluding gains and lo\",\n",
       "  'link': 'https://www.reddit.com/r/NVDA_Stock/comments/1inbfdz/nvda_q4_fy_2025_earnings_revenue_and_guidance/'}]"
      ]
     },
     "execution_count": 25,
     "metadata": {},
     "output_type": "execute_result"
    }
   ],
   "source": [
    "news_items = await news_service.search_news('(\"NVDA\" OR \"NVIDIA Corporation\")  (\"stock news\" OR \"earnings\" OR \"market update\" OR \"price target\")')\n",
    "news_items"
   ]
  },
  {
   "cell_type": "code",
   "execution_count": null,
   "id": "f11033a4-80b8-448a-8019-dd58c9fc30fb",
   "metadata": {},
   "outputs": [],
   "source": [
    "url = f\"https://www.googleapis.com/customsearch/v1?q={search_query}&cx={CSE_ID}&key={API_KEY}&num=10\"\n"
   ]
  },
  {
   "cell_type": "code",
   "execution_count": 36,
   "id": "276b1804-7c7c-451b-aecf-effedd1b9c6e",
   "metadata": {},
   "outputs": [
    {
     "name": "stdout",
     "output_type": "stream",
     "text": [
      "\n",
      "Article 1:\n",
      "Title: NVDA Stock Quote Price and Forecast | CNN\n",
      "Link: https://www.cnn.com/markets/stocks/NVDA\n",
      "Content length: 1000 characters\n",
      "\n",
      "Article 2:\n",
      "Title: NVIDIA Announces Financial Results for Fourth Quarter and Fiscal ...\n",
      "Link: http://nvidianews.nvidia.com/news/nvidia-announces-financial-results-for-fourth-quarter-and-fiscal-2025\n",
      "Content length: 1000 characters\n",
      "\n",
      "Article 3:\n",
      "Title: NVDA Q4 FY 2025 Earnings, Revenue, and Guidance Estimates ...\n",
      "Link: https://www.reddit.com/r/NVDA_Stock/comments/1inbfdz/nvda_q4_fy_2025_earnings_revenue_and_guidance/\n",
      "Content length: 1000 characters\n"
     ]
    }
   ],
   "source": [
    "for i, item in enumerate(news_items, 1):\n",
    "    print(f\"\\nArticle {i}:\")\n",
    "    print(f\"Title: {item['title']}\")\n",
    "    print(f\"Link: {item['link']}\")\n",
    "    print(f\"Content length: {len(item['content'])} characters\")"
   ]
  },
  {
   "cell_type": "code",
   "execution_count": 37,
   "id": "2a8bdb20-496d-4a64-9ed9-e9dbb631bc7c",
   "metadata": {},
   "outputs": [
    {
     "name": "stdout",
     "output_type": "stream",
     "text": [
      "\n",
      "Summary of news articles:\n",
      "NVIDIA Corp. (NVDA) reported strong financial results for the fourth quarter and fiscal year 2025. Quarterly revenue was $39.3 billion, up 12% from the previous quarter and 78% from a year ago. GAAP earnings per diluted share were $0.89, up 14% from the previous quarter. For fiscal 2025, revenue was $130.5 billion, up 114% from a year ago. GAAP earnings per diluted share for the year were $2.94. The company's CEO, Jensen Huang, highlighted the demand for Blackwell AI supercomputers and the advancements in reasoning AI. NVIDIA also provided guidance for the fourth quarter of fiscal 2025, with revenue expected to be $37.5 billion.\n"
     ]
    }
   ],
   "source": [
    "if news_items:\n",
    "    summary = await news_service.summarize_news(news_items)\n",
    "    print(\"\\nSummary of news articles:\")\n",
    "    print(summary)"
   ]
  },
  {
   "cell_type": "code",
   "execution_count": 2,
   "id": "e168119f-0836-4a91-b42a-8c11a5a857f7",
   "metadata": {},
   "outputs": [
    {
     "ename": "TypeError",
     "evalue": "string indices must be integers, not 'str'",
     "output_type": "error",
     "traceback": [
      "\u001b[1;31m---------------------------------------------------------------------------\u001b[0m",
      "\u001b[1;31mTypeError\u001b[0m                                 Traceback (most recent call last)",
      "Cell \u001b[1;32mIn[2], line 36\u001b[0m\n\u001b[0;32m     34\u001b[0m \u001b[38;5;66;03m# Print results\u001b[39;00m\n\u001b[0;32m     35\u001b[0m \u001b[38;5;28;01mfor\u001b[39;00m idx, article \u001b[38;5;129;01min\u001b[39;00m \u001b[38;5;28menumerate\u001b[39m(nvda_news, \u001b[38;5;241m1\u001b[39m):\n\u001b[1;32m---> 36\u001b[0m     \u001b[38;5;28mprint\u001b[39m(\u001b[38;5;124mf\u001b[39m\u001b[38;5;124m\"\u001b[39m\u001b[38;5;132;01m{\u001b[39;00midx\u001b[38;5;132;01m}\u001b[39;00m\u001b[38;5;124m. \u001b[39m\u001b[38;5;132;01m{\u001b[39;00m\u001b[43marticle\u001b[49m\u001b[43m[\u001b[49m\u001b[38;5;124;43m'\u001b[39;49m\u001b[38;5;124;43mtitle\u001b[39;49m\u001b[38;5;124;43m'\u001b[39;49m\u001b[43m]\u001b[49m\u001b[38;5;132;01m}\u001b[39;00m\u001b[38;5;124m - \u001b[39m\u001b[38;5;132;01m{\u001b[39;00marticle[\u001b[38;5;124m'\u001b[39m\u001b[38;5;124mpublisher\u001b[39m\u001b[38;5;124m'\u001b[39m]\u001b[38;5;132;01m}\u001b[39;00m\u001b[38;5;130;01m\\n\u001b[39;00m\u001b[38;5;132;01m{\u001b[39;00marticle[\u001b[38;5;124m'\u001b[39m\u001b[38;5;124mlink\u001b[39m\u001b[38;5;124m'\u001b[39m]\u001b[38;5;132;01m}\u001b[39;00m\u001b[38;5;130;01m\\n\u001b[39;00m\u001b[38;5;124m\"\u001b[39m)\n",
      "\u001b[1;31mTypeError\u001b[0m: string indices must be integers, not 'str'"
     ]
    }
   ],
   "source": [
    "import yfinance as yf\n",
    "\n",
    "def get_stock_news(ticker_symbol=\"NVDA\", max_results=10):\n",
    "    \"\"\"\n",
    "    Fetches the latest stock news for the given ticker symbol from Yahoo Finance.\n",
    "    \n",
    "    :param ticker_symbol: Stock symbol (default: \"NVDA\" for NVIDIA)\n",
    "    :param max_results: Max number of news articles to return (default: 10)\n",
    "    :return: List of news articles (title, link, publisher, date)\n",
    "    \"\"\"\n",
    "    try:\n",
    "        stock = yf.Ticker(ticker_symbol)\n",
    "        news_data = stock.news  # Fetch news articles\n",
    "\n",
    "        # Process and format results\n",
    "        news_results = []\n",
    "        for news in news_data[:max_results]:  # Limit results\n",
    "            article = {\n",
    "                \"title\": news[\"title\"],\n",
    "                \"link\": news[\"link\"],\n",
    "                \"publisher\": news.get(\"publisher\", \"Unknown\"),\n",
    "                \"date\": news[\"providerPublishTime\"]\n",
    "            }\n",
    "            news_results.append(article)\n",
    "\n",
    "        return news_results\n",
    "\n",
    "    except Exception as e:\n",
    "        return {\"error\": str(e)}\n",
    "\n",
    "# Fetch NVIDIA (NVDA) stock news\n",
    "nvda_news = get_stock_news()\n",
    "\n",
    "# Print results\n",
    "for idx, article in enumerate(nvda_news, 1):\n",
    "    print(f\"{idx}. {article['title']} - {article['publisher']}\\n{article['link']}\\n\")\n"
   ]
  },
  {
   "cell_type": "code",
   "execution_count": 35,
   "id": "e38688cc-f63e-4647-a369-cf197d221b2a",
   "metadata": {},
   "outputs": [
    {
     "ename": "YFNotImplementedError",
     "evalue": "Have not implemented fetching 'earnings' from Yahoo API",
     "output_type": "error",
     "traceback": [
      "\u001b[1;31m---------------------------------------------------------------------------\u001b[0m",
      "\u001b[1;31mYFNotImplementedError\u001b[0m                     Traceback (most recent call last)",
      "Cell \u001b[1;32mIn[35], line 1\u001b[0m\n\u001b[1;32m----> 1\u001b[0m \u001b[43mstock\u001b[49m\u001b[38;5;241;43m.\u001b[39;49m\u001b[43mget_earnings\u001b[49m\u001b[43m(\u001b[49m\u001b[43m)\u001b[49m\n",
      "File \u001b[1;32m~\\miniconda3\\envs\\stock-pills\\Lib\\site-packages\\yfinance\\base.py:1853\u001b[0m, in \u001b[0;36mTickerBase.get_earnings\u001b[1;34m(self, proxy, as_dict, freq)\u001b[0m\n\u001b[0;32m   1840\u001b[0m \u001b[38;5;250m\u001b[39m\u001b[38;5;124;03m\"\"\"\u001b[39;00m\n\u001b[0;32m   1841\u001b[0m \u001b[38;5;124;03m:Parameters:\u001b[39;00m\n\u001b[0;32m   1842\u001b[0m \u001b[38;5;124;03m    as_dict: bool\u001b[39;00m\n\u001b[1;32m   (...)\u001b[0m\n\u001b[0;32m   1850\u001b[0m \u001b[38;5;124;03m        Default is None\u001b[39;00m\n\u001b[0;32m   1851\u001b[0m \u001b[38;5;124;03m\"\"\"\u001b[39;00m\n\u001b[0;32m   1852\u001b[0m \u001b[38;5;28mself\u001b[39m\u001b[38;5;241m.\u001b[39m_fundamentals\u001b[38;5;241m.\u001b[39mproxy \u001b[38;5;241m=\u001b[39m proxy \u001b[38;5;129;01mor\u001b[39;00m \u001b[38;5;28mself\u001b[39m\u001b[38;5;241m.\u001b[39mproxy\n\u001b[1;32m-> 1853\u001b[0m data \u001b[38;5;241m=\u001b[39m \u001b[38;5;28;43mself\u001b[39;49m\u001b[38;5;241;43m.\u001b[39;49m\u001b[43m_fundamentals\u001b[49m\u001b[38;5;241;43m.\u001b[39;49m\u001b[43mearnings\u001b[49m[freq]\n\u001b[0;32m   1854\u001b[0m \u001b[38;5;28;01mif\u001b[39;00m as_dict:\n\u001b[0;32m   1855\u001b[0m     dict_data \u001b[38;5;241m=\u001b[39m data\u001b[38;5;241m.\u001b[39mto_dict()\n",
      "File \u001b[1;32m~\\miniconda3\\envs\\stock-pills\\Lib\\site-packages\\yfinance\\scrapers\\fundamentals.py:34\u001b[0m, in \u001b[0;36mFundamentals.earnings\u001b[1;34m(self)\u001b[0m\n\u001b[0;32m     31\u001b[0m \u001b[38;5;129m@property\u001b[39m\n\u001b[0;32m     32\u001b[0m \u001b[38;5;28;01mdef\u001b[39;00m\u001b[38;5;250m \u001b[39m\u001b[38;5;21mearnings\u001b[39m(\u001b[38;5;28mself\u001b[39m) \u001b[38;5;241m-\u001b[39m\u001b[38;5;241m>\u001b[39m \u001b[38;5;28mdict\u001b[39m:\n\u001b[0;32m     33\u001b[0m     \u001b[38;5;28;01mif\u001b[39;00m \u001b[38;5;28mself\u001b[39m\u001b[38;5;241m.\u001b[39m_earnings \u001b[38;5;129;01mis\u001b[39;00m \u001b[38;5;28;01mNone\u001b[39;00m:\n\u001b[1;32m---> 34\u001b[0m         \u001b[38;5;28;01mraise\u001b[39;00m YFNotImplementedError(\u001b[38;5;124m'\u001b[39m\u001b[38;5;124mearnings\u001b[39m\u001b[38;5;124m'\u001b[39m)\n\u001b[0;32m     35\u001b[0m     \u001b[38;5;28;01mreturn\u001b[39;00m \u001b[38;5;28mself\u001b[39m\u001b[38;5;241m.\u001b[39m_earnings\n",
      "\u001b[1;31mYFNotImplementedError\u001b[0m: Have not implemented fetching 'earnings' from Yahoo API"
     ]
    }
   ],
   "source": [
    "stock.get_earnings()"
   ]
  },
  {
   "cell_type": "code",
   "execution_count": 29,
   "id": "0c5bf6ce-c911-4d5c-b202-072abef4dd1c",
   "metadata": {},
   "outputs": [
    {
     "ename": "JSONDecodeError",
     "evalue": "Expecting value: line 1 column 1 (char 0)",
     "output_type": "error",
     "traceback": [
      "\u001b[1;31m---------------------------------------------------------------------------\u001b[0m",
      "\u001b[1;31mJSONDecodeError\u001b[0m                           Traceback (most recent call last)",
      "File \u001b[1;32m~\\miniconda3\\envs\\stock-pills\\Lib\\site-packages\\requests\\models.py:971\u001b[0m, in \u001b[0;36mResponse.json\u001b[1;34m(self, **kwargs)\u001b[0m\n\u001b[0;32m    970\u001b[0m \u001b[38;5;28;01mtry\u001b[39;00m:\n\u001b[1;32m--> 971\u001b[0m     \u001b[38;5;28;01mreturn\u001b[39;00m \u001b[43mcomplexjson\u001b[49m\u001b[38;5;241;43m.\u001b[39;49m\u001b[43mloads\u001b[49m\u001b[43m(\u001b[49m\u001b[38;5;28;43mself\u001b[39;49m\u001b[38;5;241;43m.\u001b[39;49m\u001b[43mtext\u001b[49m\u001b[43m,\u001b[49m\u001b[43m \u001b[49m\u001b[38;5;241;43m*\u001b[39;49m\u001b[38;5;241;43m*\u001b[39;49m\u001b[43mkwargs\u001b[49m\u001b[43m)\u001b[49m\n\u001b[0;32m    972\u001b[0m \u001b[38;5;28;01mexcept\u001b[39;00m JSONDecodeError \u001b[38;5;28;01mas\u001b[39;00m e:\n\u001b[0;32m    973\u001b[0m     \u001b[38;5;66;03m# Catch JSON-related errors and raise as requests.JSONDecodeError\u001b[39;00m\n\u001b[0;32m    974\u001b[0m     \u001b[38;5;66;03m# This aliases json.JSONDecodeError and simplejson.JSONDecodeError\u001b[39;00m\n",
      "File \u001b[1;32m~\\miniconda3\\envs\\stock-pills\\Lib\\json\\__init__.py:346\u001b[0m, in \u001b[0;36mloads\u001b[1;34m(s, cls, object_hook, parse_float, parse_int, parse_constant, object_pairs_hook, **kw)\u001b[0m\n\u001b[0;32m    343\u001b[0m \u001b[38;5;28;01mif\u001b[39;00m (\u001b[38;5;28mcls\u001b[39m \u001b[38;5;129;01mis\u001b[39;00m \u001b[38;5;28;01mNone\u001b[39;00m \u001b[38;5;129;01mand\u001b[39;00m object_hook \u001b[38;5;129;01mis\u001b[39;00m \u001b[38;5;28;01mNone\u001b[39;00m \u001b[38;5;129;01mand\u001b[39;00m\n\u001b[0;32m    344\u001b[0m         parse_int \u001b[38;5;129;01mis\u001b[39;00m \u001b[38;5;28;01mNone\u001b[39;00m \u001b[38;5;129;01mand\u001b[39;00m parse_float \u001b[38;5;129;01mis\u001b[39;00m \u001b[38;5;28;01mNone\u001b[39;00m \u001b[38;5;129;01mand\u001b[39;00m\n\u001b[0;32m    345\u001b[0m         parse_constant \u001b[38;5;129;01mis\u001b[39;00m \u001b[38;5;28;01mNone\u001b[39;00m \u001b[38;5;129;01mand\u001b[39;00m object_pairs_hook \u001b[38;5;129;01mis\u001b[39;00m \u001b[38;5;28;01mNone\u001b[39;00m \u001b[38;5;129;01mand\u001b[39;00m \u001b[38;5;129;01mnot\u001b[39;00m kw):\n\u001b[1;32m--> 346\u001b[0m     \u001b[38;5;28;01mreturn\u001b[39;00m \u001b[43m_default_decoder\u001b[49m\u001b[38;5;241;43m.\u001b[39;49m\u001b[43mdecode\u001b[49m\u001b[43m(\u001b[49m\u001b[43ms\u001b[49m\u001b[43m)\u001b[49m\n\u001b[0;32m    347\u001b[0m \u001b[38;5;28;01mif\u001b[39;00m \u001b[38;5;28mcls\u001b[39m \u001b[38;5;129;01mis\u001b[39;00m \u001b[38;5;28;01mNone\u001b[39;00m:\n",
      "File \u001b[1;32m~\\miniconda3\\envs\\stock-pills\\Lib\\json\\decoder.py:337\u001b[0m, in \u001b[0;36mJSONDecoder.decode\u001b[1;34m(self, s, _w)\u001b[0m\n\u001b[0;32m    333\u001b[0m \u001b[38;5;250m\u001b[39m\u001b[38;5;124;03m\"\"\"Return the Python representation of ``s`` (a ``str`` instance\u001b[39;00m\n\u001b[0;32m    334\u001b[0m \u001b[38;5;124;03mcontaining a JSON document).\u001b[39;00m\n\u001b[0;32m    335\u001b[0m \n\u001b[0;32m    336\u001b[0m \u001b[38;5;124;03m\"\"\"\u001b[39;00m\n\u001b[1;32m--> 337\u001b[0m obj, end \u001b[38;5;241m=\u001b[39m \u001b[38;5;28;43mself\u001b[39;49m\u001b[38;5;241;43m.\u001b[39;49m\u001b[43mraw_decode\u001b[49m\u001b[43m(\u001b[49m\u001b[43ms\u001b[49m\u001b[43m,\u001b[49m\u001b[43m \u001b[49m\u001b[43midx\u001b[49m\u001b[38;5;241;43m=\u001b[39;49m\u001b[43m_w\u001b[49m\u001b[43m(\u001b[49m\u001b[43ms\u001b[49m\u001b[43m,\u001b[49m\u001b[43m \u001b[49m\u001b[38;5;241;43m0\u001b[39;49m\u001b[43m)\u001b[49m\u001b[38;5;241;43m.\u001b[39;49m\u001b[43mend\u001b[49m\u001b[43m(\u001b[49m\u001b[43m)\u001b[49m\u001b[43m)\u001b[49m\n\u001b[0;32m    338\u001b[0m end \u001b[38;5;241m=\u001b[39m _w(s, end)\u001b[38;5;241m.\u001b[39mend()\n",
      "File \u001b[1;32m~\\miniconda3\\envs\\stock-pills\\Lib\\json\\decoder.py:355\u001b[0m, in \u001b[0;36mJSONDecoder.raw_decode\u001b[1;34m(self, s, idx)\u001b[0m\n\u001b[0;32m    354\u001b[0m \u001b[38;5;28;01mexcept\u001b[39;00m \u001b[38;5;167;01mStopIteration\u001b[39;00m \u001b[38;5;28;01mas\u001b[39;00m err:\n\u001b[1;32m--> 355\u001b[0m     \u001b[38;5;28;01mraise\u001b[39;00m JSONDecodeError(\u001b[38;5;124m\"\u001b[39m\u001b[38;5;124mExpecting value\u001b[39m\u001b[38;5;124m\"\u001b[39m, s, err\u001b[38;5;241m.\u001b[39mvalue) \u001b[38;5;28;01mfrom\u001b[39;00m\u001b[38;5;250m \u001b[39m\u001b[38;5;28;01mNone\u001b[39;00m\n\u001b[0;32m    356\u001b[0m \u001b[38;5;28;01mreturn\u001b[39;00m obj, end\n",
      "\u001b[1;31mJSONDecodeError\u001b[0m: Expecting value: line 1 column 1 (char 0)",
      "\nDuring handling of the above exception, another exception occurred:\n",
      "\u001b[1;31mJSONDecodeError\u001b[0m                           Traceback (most recent call last)",
      "Cell \u001b[1;32mIn[29], line 2\u001b[0m\n\u001b[0;32m      1\u001b[0m stock \u001b[38;5;241m=\u001b[39m yf\u001b[38;5;241m.\u001b[39mTicker(\u001b[38;5;124m\"\u001b[39m\u001b[38;5;124mNVIDIA Corporation (NVDA)\u001b[39m\u001b[38;5;124m\"\u001b[39m)\n\u001b[1;32m----> 2\u001b[0m news_data \u001b[38;5;241m=\u001b[39m \u001b[43mstock\u001b[49m\u001b[38;5;241;43m.\u001b[39;49m\u001b[43mnews\u001b[49m  \u001b[38;5;66;03m# Fetch news articles\u001b[39;00m\n",
      "File \u001b[1;32m~\\miniconda3\\envs\\stock-pills\\Lib\\site-packages\\yfinance\\ticker.py:263\u001b[0m, in \u001b[0;36mTicker.news\u001b[1;34m(self)\u001b[0m\n\u001b[0;32m    261\u001b[0m \u001b[38;5;129m@property\u001b[39m\n\u001b[0;32m    262\u001b[0m \u001b[38;5;28;01mdef\u001b[39;00m\u001b[38;5;250m \u001b[39m\u001b[38;5;21mnews\u001b[39m(\u001b[38;5;28mself\u001b[39m) \u001b[38;5;241m-\u001b[39m\u001b[38;5;241m>\u001b[39m \u001b[38;5;28mlist\u001b[39m:\n\u001b[1;32m--> 263\u001b[0m     \u001b[38;5;28;01mreturn\u001b[39;00m \u001b[38;5;28;43mself\u001b[39;49m\u001b[38;5;241;43m.\u001b[39;49m\u001b[43mget_news\u001b[49m\u001b[43m(\u001b[49m\u001b[43m)\u001b[49m\n",
      "File \u001b[1;32m~\\miniconda3\\envs\\stock-pills\\Lib\\site-packages\\yfinance\\base.py:2097\u001b[0m, in \u001b[0;36mTickerBase.get_news\u001b[1;34m(self, proxy)\u001b[0m\n\u001b[0;32m   2093\u001b[0m \u001b[38;5;28;01mif\u001b[39;00m \u001b[38;5;124m\"\u001b[39m\u001b[38;5;124mWill be right back\u001b[39m\u001b[38;5;124m\"\u001b[39m \u001b[38;5;129;01min\u001b[39;00m data\u001b[38;5;241m.\u001b[39mtext:\n\u001b[0;32m   2094\u001b[0m     \u001b[38;5;28;01mraise\u001b[39;00m \u001b[38;5;167;01mRuntimeError\u001b[39;00m(\u001b[38;5;124m\"\u001b[39m\u001b[38;5;124m*** YAHOO! FINANCE IS CURRENTLY DOWN! ***\u001b[39m\u001b[38;5;130;01m\\n\u001b[39;00m\u001b[38;5;124m\"\u001b[39m\n\u001b[0;32m   2095\u001b[0m                        \u001b[38;5;124m\"\u001b[39m\u001b[38;5;124mOur engineers are working quickly to resolve \u001b[39m\u001b[38;5;124m\"\u001b[39m\n\u001b[0;32m   2096\u001b[0m                        \u001b[38;5;124m\"\u001b[39m\u001b[38;5;124mthe issue. Thank you for your patience.\u001b[39m\u001b[38;5;124m\"\u001b[39m)\n\u001b[1;32m-> 2097\u001b[0m data \u001b[38;5;241m=\u001b[39m \u001b[43mdata\u001b[49m\u001b[38;5;241;43m.\u001b[39;49m\u001b[43mjson\u001b[49m\u001b[43m(\u001b[49m\u001b[43m)\u001b[49m\n\u001b[0;32m   2099\u001b[0m \u001b[38;5;66;03m# parse news\u001b[39;00m\n\u001b[0;32m   2100\u001b[0m \u001b[38;5;28mself\u001b[39m\u001b[38;5;241m.\u001b[39m_news \u001b[38;5;241m=\u001b[39m data\u001b[38;5;241m.\u001b[39mget(\u001b[38;5;124m\"\u001b[39m\u001b[38;5;124mnews\u001b[39m\u001b[38;5;124m\"\u001b[39m, [])\n",
      "File \u001b[1;32m~\\miniconda3\\envs\\stock-pills\\Lib\\site-packages\\requests\\models.py:975\u001b[0m, in \u001b[0;36mResponse.json\u001b[1;34m(self, **kwargs)\u001b[0m\n\u001b[0;32m    971\u001b[0m     \u001b[38;5;28;01mreturn\u001b[39;00m complexjson\u001b[38;5;241m.\u001b[39mloads(\u001b[38;5;28mself\u001b[39m\u001b[38;5;241m.\u001b[39mtext, \u001b[38;5;241m*\u001b[39m\u001b[38;5;241m*\u001b[39mkwargs)\n\u001b[0;32m    972\u001b[0m \u001b[38;5;28;01mexcept\u001b[39;00m JSONDecodeError \u001b[38;5;28;01mas\u001b[39;00m e:\n\u001b[0;32m    973\u001b[0m     \u001b[38;5;66;03m# Catch JSON-related errors and raise as requests.JSONDecodeError\u001b[39;00m\n\u001b[0;32m    974\u001b[0m     \u001b[38;5;66;03m# This aliases json.JSONDecodeError and simplejson.JSONDecodeError\u001b[39;00m\n\u001b[1;32m--> 975\u001b[0m     \u001b[38;5;28;01mraise\u001b[39;00m RequestsJSONDecodeError(e\u001b[38;5;241m.\u001b[39mmsg, e\u001b[38;5;241m.\u001b[39mdoc, e\u001b[38;5;241m.\u001b[39mpos)\n",
      "\u001b[1;31mJSONDecodeError\u001b[0m: Expecting value: line 1 column 1 (char 0)"
     ]
    }
   ],
   "source": [
    "stock = yf.Ticker(\"NVIDIA Corporation (NVDA)\")\n",
    "news_data = stock.news  # Fetch news articles"
   ]
  }
 ],
 "metadata": {
  "kernelspec": {
   "display_name": "Python 3 (ipykernel)",
   "language": "python",
   "name": "python3"
  },
  "language_info": {
   "codemirror_mode": {
    "name": "ipython",
    "version": 3
   },
   "file_extension": ".py",
   "mimetype": "text/x-python",
   "name": "python",
   "nbconvert_exporter": "python",
   "pygments_lexer": "ipython3",
   "version": "3.12.7"
  }
 },
 "nbformat": 4,
 "nbformat_minor": 5
}

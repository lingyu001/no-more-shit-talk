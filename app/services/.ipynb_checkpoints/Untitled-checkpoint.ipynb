{
 "cells": [
  {
   "cell_type": "code",
   "execution_count": 2,
   "id": "65abac57-42f8-4a01-b93c-47e6b20aa0b6",
   "metadata": {},
   "outputs": [],
   "source": [
    "from news_service import NewsService"
   ]
  },
  {
   "cell_type": "code",
   "execution_count": 3,
   "id": "ffa6fb74-00c6-4de1-bb9d-455ef6179774",
   "metadata": {},
   "outputs": [],
   "source": [
    "import os"
   ]
  },
  {
   "cell_type": "code",
   "execution_count": 6,
   "id": "c6944e4c-f920-4d3b-b2f7-4a8928fd8eb7",
   "metadata": {},
   "outputs": [],
   "source": [
    "ns = NewsService()"
   ]
  },
  {
   "cell_type": "code",
   "execution_count": 7,
   "id": "89b43049-b41b-4c12-9152-12e62fa1fd3a",
   "metadata": {},
   "outputs": [
    {
     "data": {
      "text/plain": [
       "'NVDA stock news financial analysis latest'"
      ]
     },
     "execution_count": 7,
     "metadata": {},
     "output_type": "execute_result"
    }
   ],
   "source": [
    "ns.create_search_query(\"NVDA\")"
   ]
  },
  {
   "cell_type": "code",
   "execution_count": 8,
   "id": "f07cd691-43fa-4576-9230-1e59bd7a36e4",
   "metadata": {},
   "outputs": [
    {
     "data": {
      "text/plain": [
       "[{'title': 'NVIDIA Corporation (NVDA) Stock Price, News, Quote & History ...',\n",
       "  'snippet': 'Feb 27, 2025 ... Find the latest NVIDIA Corporation (NVDA) stock quote, history, news and other vital information to help you with your stock trading and\\xa0...',\n",
       "  'link': 'https://finance.yahoo.com/quote/NVDA/'},\n",
       " {'title': 'NVIDIA Announces Financial Results for Fourth Quarter and Fiscal ...',\n",
       "  'snippet': 'Feb 26, 2025 ... These reconciliations adjust the related GAAP financial measures to exclude stock ... Sign Up for NVIDIA News. Subscribe. Follow NVIDIA. USA\\xa0...',\n",
       "  'link': 'http://nvidianews.nvidia.com/news/nvidia-announces-financial-results-for-fourth-quarter-and-fiscal-2025'},\n",
       " {'title': 'Financial Reports - NVIDIA Corporation',\n",
       "  'snippet': 'Quarterly Results · Latest Report Earnings Release 2025 · Quick Links · Email Alerts · Email Alert Sign Up Confirmation · Investor Contact · Investor Resources · Stock\\xa0...',\n",
       "  'link': 'https://investor.nvidia.com/financial-info/financial-reports/default.aspx'},\n",
       " {'title': 'NVIDIA Corporation (NVDA) Latest Stock News & Headlines ...',\n",
       "  'snippet': '... analysis on the latest market action, check out more Morning Brief&nbsp;here. Yahoo Finance Video • 3 hours ago. QBTS · QBTS-WS · NVDA. -0.14%\\xa0...',\n",
       "  'link': 'https://finance.yahoo.com/quote/NVDA/news/'},\n",
       " {'title': 'NVDA: NVIDIA Corp - Stock Price, Quote and News - CNBC',\n",
       "  'snippet': \"Latest On NVIDIA Corp. ALL CNBC INVESTING CLUB PRO. I'd buy dips that are ... Global Business and Financial News, Stock Quotes, and Market Data and Analysis.\",\n",
       "  'link': 'https://www.cnbc.com/quotes/NVDA'}]"
      ]
     },
     "execution_count": 8,
     "metadata": {},
     "output_type": "execute_result"
    }
   ],
   "source": [
    "ns.search_news(\"'NVDA stock news financial analysis latest'\")"
   ]
  }
 ],
 "metadata": {
  "kernelspec": {
   "display_name": "Python 3 (ipykernel)",
   "language": "python",
   "name": "python3"
  },
  "language_info": {
   "codemirror_mode": {
    "name": "ipython",
    "version": 3
   },
   "file_extension": ".py",
   "mimetype": "text/x-python",
   "name": "python",
   "nbconvert_exporter": "python",
   "pygments_lexer": "ipython3",
   "version": "3.12.7"
  }
 },
 "nbformat": 4,
 "nbformat_minor": 5
}
